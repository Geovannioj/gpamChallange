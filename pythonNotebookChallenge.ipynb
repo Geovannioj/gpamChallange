{
 "cells": [
  {
   "cell_type": "markdown",
   "metadata": {},
   "source": [
    "Libraries that will be used to build the model, train and deal with the dataset must be import to be used"
   ]
  },
  {
   "cell_type": "code",
   "execution_count": 47,
   "metadata": {},
   "outputs": [],
   "source": [
    "import scipy\n",
    "import numpy as np\n",
    "import matplotlib.pyplot as plt\n",
    "import pandas as pd\n",
    "import itertools\n",
    "from pandas.plotting import scatter_matrix\n",
    "from sklearn import model_selection\n",
    "from sklearn.metrics import classification_report\n",
    "from sklearn.metrics import confusion_matrix\n",
    "from sklearn.metrics import accuracy_score\n",
    "from sklearn.metrics import f1_score\n",
    "from sklearn.neighbors import KNeighborsClassifier\n",
    "from sklearn.naive_bayes import GaussianNB, MultinomialNB\n",
    "from sklearn.svm import LinearSVC\n",
    "from sklearn.feature_extraction.text import TfidfVectorizer, CountVectorizer"
   ]
  },
  {
   "cell_type": "markdown",
   "metadata": {},
   "source": [
    "The dataset that will be used in the problem must be read, in order to do it the pandas library will be used to read the CSV file"
   ]
  },
  {
   "cell_type": "code",
   "execution_count": 48,
   "metadata": {},
   "outputs": [],
   "source": [
    "#load data GPAM_Challenge dataset \n",
    "dataset = pd.read_csv('olist_order_reviews_dataset.csv') "
   ]
  },
  {
   "cell_type": "markdown",
   "metadata": {},
   "source": [
    "The dataset contains many rows without comments, and it needs to be treated it before using it to train the model, if not there will be \"Trash\" information that will not help to predict the product's rating based in blank comment."
   ]
  },
  {
   "cell_type": "code",
   "execution_count": 49,
   "metadata": {},
   "outputs": [],
   "source": [
    "#take the blank comments row out\n",
    "dataset = dataset.dropna(subset=['review_comment_message'])"
   ]
  },
  {
   "cell_type": "markdown",
   "metadata": {},
   "source": [
    "Print information of the datased. Such as it's shape, destribution, the first 10 rows and check about the rating distribution ( amount of 1, 2, 3, 4 and 5 stars) "
   ]
  },
  {
   "cell_type": "code",
   "execution_count": 50,
   "metadata": {},
   "outputs": [
    {
     "name": "stdout",
     "output_type": "stream",
     "text": [
      "(41753, 7)\n",
      "                           review_id                          order_id  \\\n",
      "3   e64fb393e7b32834bb789ff8bb30750e  658677c97b385a9be170737859d3511b   \n",
      "4   f7c4243c7fe1938f181bec41a392bdeb  8e6bfb81e283fa7e4f11123a3fb894f1   \n",
      "9   8670d52e15e00043ae7de4c01cc2fe06  b9bf720beb4ab3728760088589c62129   \n",
      "12  4b49719c8a200003f700d3d986ea1a19  9d6f15f95d01e79bd1349cc208361f09   \n",
      "15  3948b09f7c818e2d86c9a546758b2335  e51478e7e277a83743b6f9991dbfa3fb   \n",
      "16  9314d6f9799f5bfba510cc7bcd468c01  0dacf04c5ad59fd5a0cc1faa07c34e39   \n",
      "19  373cbeecea8286a2b66c97b1b157ec46  583174fbe37d3d5f0d6661be3aad1786   \n",
      "22  d21bbc789670eab777d27372ab9094cc  4fc44d78867142c627497b60a7e0228a   \n",
      "24  0e0190b9db53b689b285d3f3916f8441  79832b7cb59ac6f887088ffd686e1d5e   \n",
      "27  fe3db7c069d694bab50cc43463f91608  2ca73e2ff9e3a186ad1e1ffb9b1d9c10   \n",
      "\n",
      "    review_score     review_comment_title  \\\n",
      "3              5                      NaN   \n",
      "4              5                      NaN   \n",
      "9              4                recomendo   \n",
      "12             4                      NaN   \n",
      "15             5          Super recomendo   \n",
      "16             2                      NaN   \n",
      "19             1  Não chegou meu produto    \n",
      "22             5                    Ótimo   \n",
      "24             5                      NaN   \n",
      "27             5                      NaN   \n",
      "\n",
      "                               review_comment_message review_creation_date  \\\n",
      "3               Recebi bem antes do prazo estipulado.  2017-04-21 00:00:00   \n",
      "4   Parabéns lojas lannister adorei comprar pela I...  2018-03-01 00:00:00   \n",
      "9   aparelho eficiente. no site a marca do aparelh...  2018-05-22 00:00:00   \n",
      "12    Mas um pouco ,travando...pelo valor ta Boa.\\r\\n  2018-02-16 00:00:00   \n",
      "15  Vendedor confiável, produto ok e entrega antes...  2018-05-23 00:00:00   \n",
      "16  GOSTARIA DE SABER O QUE HOUVE, SEMPRE RECEBI E...  2018-01-18 00:00:00   \n",
      "19                                            Péssimo  2018-08-15 00:00:00   \n",
      "22                                       Loja nota 10  2018-07-10 00:00:00   \n",
      "24              obrigado pela atençao amim dispensada  2017-12-01 00:00:00   \n",
      "27  A compra foi realizada facilmente.\\r\\nA entreg...  2018-03-23 00:00:00   \n",
      "\n",
      "   review_answer_timestamp  \n",
      "3      2017-04-21 22:02:06  \n",
      "4      2018-03-02 10:26:53  \n",
      "9      2018-05-23 16:45:47  \n",
      "12     2018-02-20 10:52:22  \n",
      "15     2018-05-24 03:00:01  \n",
      "16     2018-01-20 21:25:45  \n",
      "19     2018-08-15 04:10:37  \n",
      "22     2018-07-11 14:10:25  \n",
      "24     2017-12-09 22:58:58  \n",
      "27     2018-04-01 00:27:51  \n",
      "       review_score\n",
      "count  41753.000000\n",
      "mean       3.640409\n",
      "std        1.626383\n",
      "min        1.000000\n",
      "25%        2.000000\n",
      "50%        4.000000\n",
      "75%        5.000000\n",
      "max        5.000000\n",
      "review_score\n",
      "1     9179\n",
      "2     2229\n",
      "3     3665\n",
      "4     6034\n",
      "5    20646\n",
      "dtype: int64\n"
     ]
    }
   ],
   "source": [
    "print(dataset.shape)\n",
    "print(dataset.head(10))\n",
    "print(dataset.describe())\n",
    "print(dataset.groupby('review_score').size())"
   ]
  },
  {
   "cell_type": "markdown",
   "metadata": {},
   "source": [
    "An histogram is a good way to visualize the rating distribution. How many data there are in each class (1, 2, 3, 4, 5). As the data distribution is not uniform accuracy is not a very good metric to be used when we check the histogram."
   ]
  },
  {
   "cell_type": "code",
   "execution_count": 51,
   "metadata": {},
   "outputs": [
    {
     "data": {
      "image/png": "[encoded data removed]",
      "text/plain": [
       "<Figure size 432x288 with 1 Axes>"
      ]
     },
     "metadata": {
      "needs_background": "light"
     },
     "output_type": "display_data"
    }
   ],
   "source": [
    "#check data distribution\n",
    "dataset.hist()\n",
    "plt.show()"
   ]
  },
  {
   "cell_type": "markdown",
   "metadata": {},
   "source": [
    "Extract the values of the dataset to an array"
   ]
  },
  {
   "cell_type": "code",
   "execution_count": 52,
   "metadata": {},
   "outputs": [],
   "source": [
    "array = dataset.values"
   ]
  },
  {
   "cell_type": "markdown",
   "metadata": {},
   "source": [
    "Slice the comments value into a single array"
   ]
  },
  {
   "cell_type": "code",
   "execution_count": 54,
   "metadata": {},
   "outputs": [],
   "source": [
    "# split comments column\n",
    "X = array[:,4] "
   ]
  },
  {
   "cell_type": "markdown",
   "metadata": {},
   "source": [
    "The rating column will be split out of the dataset array and cast into int, just to be sure"
   ]
  },
  {
   "cell_type": "code",
   "execution_count": 55,
   "metadata": {},
   "outputs": [],
   "source": [
    "#split rating column\n",
    "Y = array[:,2]\n",
    "Y = Y.astype(int)"
   ]
  },
  {
   "cell_type": "markdown",
   "metadata": {},
   "source": [
    "The dataset has to be split into train and also test data. the proportion used is 30% to the test set and 70 to the training set"
   ]
  },
  {
   "cell_type": "code",
   "execution_count": 56,
   "metadata": {},
   "outputs": [],
   "source": [
    "validation_size = 0.3"
   ]
  },
  {
   "cell_type": "markdown",
   "metadata": {},
   "source": [
    "The dataset needs to have a seed to be used when splitting the data 5 was chosen randomly "
   ]
  },
  {
   "cell_type": "code",
   "execution_count": 57,
   "metadata": {},
   "outputs": [],
   "source": [
    "#random seed to split the dataset\n",
    "seed = 5"
   ]
  },
  {
   "cell_type": "markdown",
   "metadata": {},
   "source": [
    "The text needs to be vectorized in order to be better understood by machines, to do so a vectorized will be created and the comments (X) will fit it.\n"
   ]
  },
  {
   "cell_type": "code",
   "execution_count": 58,
   "metadata": {},
   "outputs": [],
   "source": [
    "# Vectorizer to split text\n",
    "vectorizer = TfidfVectorizer(ngram_range=(1,2))\n",
    "x_vectorized = vectorizer.fit_transform(X)"
   ]
  },
  {
   "cell_type": "markdown",
   "metadata": {},
   "source": [
    "Now the splitting of the dataset will be done between training set and validation set.\n",
    "The vectorized dataset will be used the validation size will be used (30%) and the seed to split(5)"
   ]
  },
  {
   "cell_type": "code",
   "execution_count": 59,
   "metadata": {},
   "outputs": [],
   "source": [
    "#split the datset between train and validation\n",
    "X_train, X_validation, Y_train, Y_validation = model_selection.train_test_split(x_vectorized,\n",
    "                                                Y,\n",
    "                                                test_size=validation_size,\n",
    "                                                random_state=seed)"
   ]
  },
  {
   "cell_type": "markdown",
   "metadata": {},
   "source": [
    "Just to check the size of each dataset training and validation"
   ]
  },
  {
   "cell_type": "code",
   "execution_count": 60,
   "metadata": {},
   "outputs": [
    {
     "name": "stdout",
     "output_type": "stream",
     "text": [
      "Training set has 29227 samples.\n",
      "Test set has 12526 samples.\n"
     ]
    }
   ],
   "source": [
    "print(\"Training set has {} samples.\".format(X_train.shape[0]))\n",
    "print(\"Test set has {} samples.\".format(X_validation.shape[0]))"
   ]
  },
  {
   "cell_type": "markdown",
   "metadata": {},
   "source": [
    "The models to train will be created and tested to check which one will have better metrics on the dataset "
   ]
  },
  {
   "cell_type": "code",
   "execution_count": 61,
   "metadata": {},
   "outputs": [],
   "source": [
    "#Linear Classifier\n",
    "linearClassificer = LinearSVC()\n",
    "linearClassificer.fit(X_train, Y_train)\n",
    "linearPrediction = linearClassificer.predict(X_validation)"
   ]
  },
  {
   "cell_type": "markdown",
   "metadata": {},
   "source": [
    "Check the linear classifier accuracy ( it is not the recommended metric, I've tried f1-score but I got some erros and I could solve them)"
   ]
  },
  {
   "cell_type": "code",
   "execution_count": 62,
   "metadata": {},
   "outputs": [
    {
     "name": "stdout",
     "output_type": "stream",
     "text": [
      "Accuracy\n",
      "LinearSVC: 0.6828197349513013\n"
     ]
    }
   ],
   "source": [
    "print(\"Accuracy\")\n",
    "print(\"LinearSVC:\",accuracy_score(Y_validation,linearPrediction))"
   ]
  },
  {
   "cell_type": "code",
   "execution_count": 65,
   "metadata": {},
   "outputs": [],
   "source": [
    "#KNeighbors Classifier\n",
    "classifierKNN = KNeighborsClassifier(n_neighbors=2)\n",
    "classifierKNN.fit(X_train, Y_train)\n",
    "predictionKNN = classifierKNN.predict(X_validation)\n"
   ]
  },
  {
   "cell_type": "code",
   "execution_count": 64,
   "metadata": {},
   "outputs": [
    {
     "name": "stdout",
     "output_type": "stream",
     "text": [
      "Accuracy KNN: 0.3029698227686412\n"
     ]
    }
   ],
   "source": [
    "print(\"Accuracy KNN:\", accuracy_score(Y_validation, predictionKNN))"
   ]
  },
  {
   "cell_type": "code",
   "execution_count": 66,
   "metadata": {},
   "outputs": [],
   "source": [
    "#MultinomialNB Classifier\n",
    "multinomialClassifier = MultinomialNB()\n",
    "multinomialClassifier.fit(X_train, Y_train)\n",
    "predictionMUB = multinomialClassifier.predict(X_validation)"
   ]
  },
  {
   "cell_type": "code",
   "execution_count": 67,
   "metadata": {},
   "outputs": [
    {
     "name": "stdout",
     "output_type": "stream",
     "text": [
      "MultinomialNB: 0.6699664697429347\n"
     ]
    }
   ],
   "source": [
    "print(\"MultinomialNB:\",accuracy_score(Y_validation, predictionMUB))"
   ]
  },
  {
   "cell_type": "markdown",
   "metadata": {},
   "source": [
    "Once the highest accuracy comes from the Liner Classifier, it was chosen to be used "
   ]
  },
  {
   "cell_type": "markdown",
   "metadata": {},
   "source": [
    "A function the plot the confusion matrix of the classifier needs to be built"
   ]
  },
  {
   "cell_type": "code",
   "execution_count": 68,
   "metadata": {},
   "outputs": [],
   "source": [
    "def plot_confusion_matrix(cm, classes,\n",
    "                          normalize=False,\n",
    "                          title='Confusion matrix',\n",
    "                          cmap=plt.cm.Blues):\n",
    "    \n",
    "    plt.imshow(cm, interpolation='nearest', cmap=cmap)\n",
    "    plt.title(title)\n",
    "    plt.colorbar()\n",
    "    tick_marks = np.arange(len(classes))\n",
    "    plt.xticks(tick_marks, classes, rotation=45)\n",
    "    plt.yticks(tick_marks, classes)\n",
    "\n",
    "    if normalize:\n",
    "        cm = np.around((cm.astype('float') / cm.sum(axis=1)[:, np.newaxis]),decimals=2)\n",
    "        print(\"Normalized confusion matrix\")\n",
    "    else:\n",
    "        print('Confusion matrix, without normalization')\n",
    "\n",
    "    print(cm)\n",
    "\n",
    "    thresh = cm.max() / 2.\n",
    "    for i, j in itertools.product(range(cm.shape[0]), range(cm.shape[1])):\n",
    "        plt.text(j, i, cm[i, j],\n",
    "                 horizontalalignment=\"center\",\n",
    "                 color=\"white\" if cm[i, j] > thresh else \"black\")\n",
    "\n",
    "    plt.tight_layout()\n",
    "    plt.ylabel('True label')\n",
    "    plt.xlabel('Predicted label')\n"
   ]
  },
  {
   "cell_type": "markdown",
   "metadata": {},
   "source": [
    "create confusion matrix with the best model "
   ]
  },
  {
   "cell_type": "code",
   "execution_count": 70,
   "metadata": {},
   "outputs": [],
   "source": [
    "confusionMatrixLSVC = confusion_matrix(Y_validation, linearPrediction)"
   ]
  },
  {
   "cell_type": "markdown",
   "metadata": {},
   "source": [
    "The plotted data will be able to be analysed"
   ]
  },
  {
   "cell_type": "code",
   "execution_count": 71,
   "metadata": {},
   "outputs": [
    {
     "name": "stdout",
     "output_type": "stream",
     "text": [
      "Confusion matrix, without normalization\n",
      "[[2388   58   99   57  175]\n",
      " [ 469   32   53   47   83]\n",
      " [ 416   28  164  140  339]\n",
      " [ 155   17  110  235 1285]\n",
      " [ 139    3   66  234 5734]]\n"
     ]
    },
    {
     "data": {
      "image/png": "[encoded data removed]",
      "text/plain": [
       "<Figure size 432x288 with 2 Axes>"
      ]
     },
     "metadata": {
      "needs_background": "light"
     },
     "output_type": "display_data"
    }
   ],
   "source": [
    "classes = ['1', '2', '3', '4', '5']\n",
    "plt.figure()\n",
    "\n",
    "plot_confusion_matrix(confusionMatrixLSVC,\n",
    "                      classes,\n",
    "                      normalize=False,\n",
    "                      title='Confusion Matrix - SVM')\n",
    "plt.show()"
   ]
  },
  {
   "cell_type": "markdown",
   "metadata": {},
   "source": [
    "As the confusion matrix picture shows, the main diagonal shows the amount of correct predicted values the  other values are the values that were wrongly predicted\n"
   ]
  },
  {
   "cell_type": "code",
   "execution_count": null,
   "metadata": {},
   "outputs": [],
   "source": []
  }
 ],
 "metadata": {
  "kernelspec": {
   "display_name": "Python 3",
   "language": "python",
   "name": "python3"
  },
  "language_info": {
   "codemirror_mode": {
    "name": "ipython",
    "version": 3
   },
   "file_extension": ".py",
   "mimetype": "text/x-python",
   "name": "python",
   "nbconvert_exporter": "python",
   "pygments_lexer": "ipython3",
   "version": "3.7.1"
  }
 },
 "nbformat": 4,
 "nbformat_minor": 2
}
